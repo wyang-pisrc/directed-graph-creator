{
 "cells": [
  {
   "cell_type": "code",
   "execution_count": 10,
   "id": "b4642f28",
   "metadata": {
    "ExecuteTime": {
     "end_time": "2022-09-21T15:52:37.552574Z",
     "start_time": "2022-09-21T15:52:37.544433Z"
    }
   },
   "outputs": [],
   "source": [
    "import json\n",
    "with open(\"./mydag (30).json\") as f:\n",
    "    data = json.load(f)"
   ]
  },
  {
   "cell_type": "code",
   "execution_count": 78,
   "id": "ddd6a573",
   "metadata": {
    "ExecuteTime": {
     "end_time": "2022-09-21T16:09:19.552331Z",
     "start_time": "2022-09-21T16:09:19.535893Z"
    }
   },
   "outputs": [
    {
     "data": {
      "text/plain": [
       "[{'id': 2,\n",
       "  'title': 'way point A1',\n",
       "  'x': 0,\n",
       "  'y': 0,\n",
       "  'levelCode': 'level-A',\n",
       "  'metaData': {'key': 'value'}},\n",
       " {'id': 3,\n",
       "  'title': 'way point A2',\n",
       "  'x': 1.68,\n",
       "  'y': 0,\n",
       "  'levelCode': 'level-A',\n",
       "  'metaData': {'key': 'value'}},\n",
       " {'id': 4,\n",
       "  'title': 'way point A3',\n",
       "  'x': 1.68,\n",
       "  'y': 2.28,\n",
       "  'levelCode': 'level-A',\n",
       "  'metaData': {'key': 'value'}},\n",
       " {'id': 5,\n",
       "  'title': 'way point A5',\n",
       "  'x': 3.33,\n",
       "  'y': 0.14,\n",
       "  'levelCode': 'level-A',\n",
       "  'metaData': {'key': 'value'}},\n",
       " {'id': 6,\n",
       "  'title': 'way point A4',\n",
       "  'x': 3.33,\n",
       "  'y': 2.28,\n",
       "  'levelCode': 'level-A',\n",
       "  'metaData': {'key': 'value'}},\n",
       " {'id': 7,\n",
       "  'title': 'way point A6',\n",
       "  'x': 6.55,\n",
       "  'y': 0.14,\n",
       "  'levelCode': 'level-A',\n",
       "  'metaData': {'key': 'value'}},\n",
       " {'id': 8,\n",
       "  'title': 'way point A8',\n",
       "  'x': 18.37,\n",
       "  'y': 2.45,\n",
       "  'levelCode': 'level-A',\n",
       "  'metaData': {'key': 'value'}},\n",
       " {'id': 9,\n",
       "  'title': 'way point A7',\n",
       "  'x': 6.55,\n",
       "  'y': 2.45,\n",
       "  'levelCode': 'level-A',\n",
       "  'metaData': {'key': 'value'}},\n",
       " {'id': 10,\n",
       "  'title': 'way point A9',\n",
       "  'x': 18.37,\n",
       "  'y': 0,\n",
       "  'levelCode': 'level-A',\n",
       "  'metaData': {'key': 'value'}}]"
      ]
     },
     "execution_count": 78,
     "metadata": {},
     "output_type": "execute_result"
    }
   ],
   "source": [
    "data[\"nodes\"]"
   ]
  },
  {
   "cell_type": "code",
   "execution_count": 79,
   "id": "a349dc82",
   "metadata": {
    "ExecuteTime": {
     "end_time": "2022-09-21T16:09:22.128518Z",
     "start_time": "2022-09-21T16:09:22.112465Z"
    }
   },
   "outputs": [
    {
     "name": "stdout",
     "output_type": "stream",
     "text": [
      "[(0, 0), (1.68, 0), (1.68, 2.28), (3.33, 2.28), (3.33, 0.14), (6.55, 0.14), (6.55, 2.45), (18.37, 2.45), (18.37, 0)]\n"
     ]
    }
   ],
   "source": [
    "new_start = 2\n",
    "path = []\n",
    "\n",
    "get_target = lambda start: [link for link in data[\"edges\"] if link['source']==start] # error handling\n",
    "get_node = lambda nodeId: [node for node in data[\"nodes\"] if node['id']==nodeId]\n",
    "\n",
    "while True:\n",
    "    start = new_start\n",
    "    node = get_node(start)[0]\n",
    "    path.append((node[\"x\"], node[\"y\"]))\n",
    "    \n",
    "    if (len(get_target(start))==0):\n",
    "        break\n",
    "    else:\n",
    "        new_start = get_target(start)[0]['target']\n",
    "        \n",
    "print(path)"
   ]
  },
  {
   "cell_type": "code",
   "execution_count": null,
   "id": "bab1173d",
   "metadata": {},
   "outputs": [],
   "source": []
  }
 ],
 "metadata": {
  "kernelspec": {
   "display_name": "Python 3 (ipykernel)",
   "language": "python",
   "name": "python3"
  },
  "language_info": {
   "codemirror_mode": {
    "name": "ipython",
    "version": 3
   },
   "file_extension": ".py",
   "mimetype": "text/x-python",
   "name": "python",
   "nbconvert_exporter": "python",
   "pygments_lexer": "ipython3",
   "version": "3.9.7"
  },
  "toc": {
   "base_numbering": 1,
   "nav_menu": {},
   "number_sections": true,
   "sideBar": true,
   "skip_h1_title": false,
   "title_cell": "Table of Contents",
   "title_sidebar": "Contents",
   "toc_cell": false,
   "toc_position": {},
   "toc_section_display": true,
   "toc_window_display": false
  }
 },
 "nbformat": 4,
 "nbformat_minor": 5
}
